{
  "metadata": {
    "kernelspec": {
      "name": "python",
      "display_name": "Python (Pyodide)",
      "language": "python"
    },
    "language_info": {
      "codemirror_mode": {
        "name": "python",
        "version": 3
      },
      "file_extension": ".py",
      "mimetype": "text/x-python",
      "name": "python",
      "nbconvert_exporter": "python",
      "pygments_lexer": "ipython3",
      "version": "3.8"
    }
  },
  "nbformat_minor": 5,
  "nbformat": 4,
  "cells": [
    {
      "id": "c991a965-987b-4345-af70-78fbd8e742d6",
      "cell_type": "markdown",
      "source": "In this lesson we're going to make a linked list in Python.\n\nPython doesn't gave a linked list data structure by default, so we have to make it from scratch.\n\n**Task 1:**\nLet's start by making a class for the nodes in the list.\nWhen we create an instance of a node, we'll want to define the data stored in it, and set the pointer to null.\n\n",
      "metadata": {}
    },
    {
      "id": "a0b7cbbe-afae-4ecf-8145-0605702bb3f6",
      "cell_type": "code",
      "source": "#write your code for the node class here",
      "metadata": {
        "trusted": true
      },
      "outputs": [],
      "execution_count": null
    },
    {
      "id": "152a2f36-b53d-4fa7-bbf2-7218ebee643f",
      "cell_type": "markdown",
      "source": "**Task 2:**\nWe'll want to define some functions we can do on the nodes.\nI think the key things you'll want to do are:\nGet the data stored\nChange the data stored\nGet the pointer value\nChange the pointer value\n\nWrite functions for these four things within your class above.",
      "metadata": {}
    },
    {
      "id": "84898ca6-598c-4f92-898b-c2d08781ab8a",
      "cell_type": "markdown",
      "source": "Now let's test your nodes work.\n\nIn the code box below, create an instance of a node, and check all four of your functions work as expected.",
      "metadata": {}
    },
    {
      "id": "77d3cea1-86a4-4374-9ded-100004428b68",
      "cell_type": "code",
      "source": "#write your node test code here",
      "metadata": {
        "trusted": true
      },
      "outputs": [],
      "execution_count": null
    },
    {
      "id": "7e16f8f6-443c-4780-a69a-834904407aa7",
      "cell_type": "markdown",
      "source": "Now we can create and manipulate nodes, we can start to make our class for the linked list itself.\nFor the linked list, we'll need the head position and the number of items in the list to be created when it's initialised.\n\n**Task 3:** explain why we will want the head position and number of items variables to be instance variables.\n\n**Task 4:** Create your class for a linked list and write the init function.",
      "metadata": {}
    },
    {
      "id": "95e32a01-05bd-495e-85d0-2d090dc25b5e",
      "cell_type": "code",
      "source": "#write your code for the linked list class here",
      "metadata": {
        "trusted": true
      },
      "outputs": [],
      "execution_count": null
    },
    {
      "id": "ba86acbd-bfee-4911-9adf-12cd848ec36f",
      "cell_type": "markdown",
      "source": "**Task 5:** Now let's start writing the functions that will allow us to work with the list.\nWrite a function to:\n- return the number of items in the list\n- insert a node at the head of the list\n- return the node with a given piece of data stored in it\n- remove an item with a given piece of data stored from the list",
      "metadata": {}
    },
    {
      "id": "dd7e44e7-0676-4160-9208-b95eeb3767f9",
      "cell_type": "markdown",
      "source": "Now make sure your code works.\n\nMake a linked list, and try adding items to it, removing items, and getting the data back out.",
      "metadata": {}
    },
    {
      "id": "22ca7336-9663-4914-9128-c94852454eb9",
      "cell_type": "code",
      "source": "#write your linked list tests here",
      "metadata": {
        "trusted": true
      },
      "outputs": [],
      "execution_count": null
    }
  ]
}